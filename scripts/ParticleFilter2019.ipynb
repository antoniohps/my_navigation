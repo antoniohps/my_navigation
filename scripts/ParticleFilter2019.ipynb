{
 "cells": [
  {
   "cell_type": "markdown",
   "metadata": {},
   "source": [
    "# Filtro de partículas - 2019\n",
    "\n",
    "\n",
    "Todo seu trabalho deve ficar no arquivo `projeto_pf.py`, que deve ficar num repositório Git privado (que pode estar no Github ou no Gitlab). Você deve adicionar os professores  em seu repositório (fabiomiranda@insper.edu.br  e antoniohps1@insper.edu.br )\n",
    "\n",
    "A idéia é que você trabalhe somente na `projeto_pf.py` e use este *notebook* **somente para instruções e para testar o que fez**. Quando seu projeto estiver pronto o arquivo GIF gerado vai mostrar as partículas convergindo para a posição do robô.\n",
    "\n",
    "Cada partícula vai ser representada por um objeto da classe `Particle`, do arquivo `pf.py`, que contém os atributos `x`,`y`,`theta` e `W`.  O atributo `W` é a probabilidade. \n",
    "\n",
    "Este projeto é individual. Lembre-se dos [princípios de honestidade de código](https://docs.google.com/document/d/e/2PACX-1vTiAczPm5Vxi7TXphB135LFH-Munp9X8ISHkeujrTvJtOmQaCC1iAUkoPdHgvkWhIkLsE0e1-T3ZGJ3/pub).\n",
    "\n",
    "\n",
    "\n",
    "\n",
    "# Atividades\n",
    "\n",
    "\n",
    "1. Crie uma função que gera n partículas aleatórias distribuídas uniformemente dentro de uma área `minx`, `miny`, `maxx`, `maxy`, `n_particulas` (passados como parâmetros). Veja a funcao `create_particles` no módulo `pf` para se inspirar. Sua função deve se chamar `cria_particulas` e ficar no arquivo `projeto_pf.py`.  \n",
    "Esta função deve devolver o número de partículas solicitado\n",
    "\n",
    "2. Crie uma função que aplica o deslocamento pelo qual o robô padrão [delta, delta_theta] normal com um desvio padrão [std_deslocamento, std_theta] a todas as partículas.  Esta função deve se chamar `move_particulas` e está também no arquivo `projeto_pf.py`. As partículas têm uma função `move_relative` que facilita aplicar um deslocamento linear no sentido em que a partícula está orientada.\n",
    "\n",
    "3. Descubra como calcular $P(D|H)$ analisando o Python Notebook. A função que traça os raios está no modulo inspercles e de chama `inspercles.nb_lidar`.\n",
    "\n",
    "Programe a aplicação da equação <font color=red>modificada</font> baseada na que está na pág. 853 do livro do Norvig $$P(z_t | x_t) = \\alpha \\sum_{j}^M{e^{\\frac{-(z_j - \\hat{z_j})^2}{2\\sigma^2}}}$$\n",
    "\n",
    "Dica: veja nos slides da aula a semelhança desta fórmula com a normal. Você pode usar `norm.pdf` para calcular.\n",
    "\n",
    "Nota: A equação do livro usa uma produtória, mas é muito difícil convergir usando a versão do livro. Na prática (e no ROS) usa-se a equação modificada com a somatória\n",
    "\n",
    "Para cada raio real medido do robô $\\hat{z_j}$ e leitura simulada da partícula $z_j$ calcule a probabilidade daquela leitura da partícula ter acontecido se o robô estivesse na posição em que a partícula está\n",
    "\n",
    "Faça o traçado dos raios e o cálculo da probabilidade na função `leituras_laser_evidencias`, que também está no arquivo `projeto_pf`. Este traçado limita-se à função `nb_lidar`. Os *frontends* Jupyter e PyGame já fazem todo o desenho.\n",
    "\n",
    "Note que o valor dos $P(H)$ calculados a cada iteração devem ir para o atributo `W` dos objetos da classe partículas. \n",
    "\n",
    "4 . Reamostre as partículas de forma proporcional à probabilidade na função `reamostrar`. Baseie-se no `notebook` chamado `como_sortear`, mas lembre-se de que você precisa incluir uma variação normal às partículas reproduzidas.  **Lembre-se também que depois de reamostrar as partículas precisam ter seu peso W tornado igual novamente**.\n",
    "\n",
    "### Testando a versão PyGame\n",
    "\n",
    "A versão `PyGame` usa as mesmas funções do `projeto_pf`, com a diferença que o filtro de partículas é executado passo a passo.\n",
    "\n",
    "Para instalar PyGame\n",
    "\n",
    "    conda install pygame\n",
    "    \n",
    "ou\n",
    "    pip install pygame\n",
    "    \n",
    "Para executar, no Python 2 faça:\n",
    "\n",
    "    python window.py\n",
    "    \n",
    "No Python 3 faça:\n",
    "\n",
    "    pythonw window.py\n",
    "\n",
    "\n",
    "Para funcionar bem com  versão PyGame, adote um desvio padrão do movimento das partículas bem pequeno, da ordem de 0.1 pixels. Quando o filtro de partículas é testado nesta modalidade o robô se move pouco de cada vez\n",
    "\n",
    "### Atenção:\n",
    "\n",
    "Instale o pacote attrs fazendo:\n",
    "\n",
    "    conda install attrs\n",
    "\n"
   ]
  },
  {
   "cell_type": "code",
   "execution_count": 1,
   "metadata": {},
   "outputs": [],
   "source": [
    "from __future__ import print_function\n",
    "\n",
    "import sys\n",
    "if (sys.version_info > (3, 0)): \n",
    "    # Modo Python 3\n",
    "    import importlib\n",
    "    import projeto_pf2 # Seu trabalho fica em projeto_pf. Você não deveria precisar editar este notebook\n",
    "    importlib.reload(projeto_pf2) # Para garantir que o Jupyter sempre relê seu trabalho\n",
    "else:\n",
    "    # Modo Python 2\n",
    "    reload(sys)\n",
    "    sys.setdefaultencoding(\"utf-8\")\n",
    "    import projeto_pf2 # Seu trabalho fica em projeto_pf. Você não deveria precisar editar este notebook\n",
    "    reload(projeto_pf2)\n",
    "\n",
    "import inspercles\n",
    "import graphics_nb\n",
    "\n",
    "import matplotlib.pyplot as plt\n",
    "import os\n",
    "%matplotlib inline"
   ]
  },
  {
   "cell_type": "markdown",
   "metadata": {},
   "source": [
    "## Diretório de trabalho e caminho do mapa"
   ]
  },
  {
   "cell_type": "code",
   "execution_count": 2,
   "metadata": {},
   "outputs": [
    {
     "data": {
      "text/plain": [
       "'/home/robotics/catkin_ws/src/my_navigation/scripts'"
      ]
     },
     "execution_count": 2,
     "metadata": {},
     "output_type": "execute_result"
    }
   ],
   "source": [
    "os.getcwd()"
   ]
  },
  {
   "cell_type": "code",
   "execution_count": 1,
   "metadata": {},
   "outputs": [
    {
     "name": "stdout",
     "output_type": "stream",
     "text": [
      "{'origin': [-10.0, -10.0, 0.0], 'free_thresh': 0.196, 'occupied_thresh': 0.65, 'negate': 0, 'image': './map.pgm', 'resolution': 0.05}\n"
     ]
    },
    {
     "name": "stderr",
     "output_type": "stream",
     "text": [
      "/home/robotics/.local/lib/python2.7/site-packages/ipykernel_launcher.py:3: YAMLLoadWarning: calling yaml.load() without Loader=... is deprecated, as the default Loader is unsafe. Please read https://msg.pyyaml.org/load for full details.\n",
      "  This is separate from the ipykernel package so we can avoid doing imports until\n"
     ]
    }
   ],
   "source": [
    "map_file = \"../maps/map.yaml\"\n",
    "import yaml\n",
    "mydata = yaml.load(open(map_file))\n",
    "print(mydata)"
   ]
  },
  {
   "cell_type": "code",
   "execution_count": null,
   "metadata": {},
   "outputs": [],
   "source": []
  },
  {
   "cell_type": "code",
   "execution_count": 3,
   "metadata": {},
   "outputs": [],
   "source": [
    "from projeto_pf2 import robot\n",
    "from projeto_pf2 import angles\n",
    "from projeto_pf2 import movimentos\n",
    "from projeto_pf2 import particulas"
   ]
  },
  {
   "cell_type": "markdown",
   "metadata": {},
   "source": [
    "Criação das partículas: chamamos a função `projeto_pf.cria_particulas()` para fazer a criação inicial. Estamos armazenando na própria `projeto_pf`. "
   ]
  },
  {
   "cell_type": "code",
   "execution_count": 4,
   "metadata": {},
   "outputs": [
    {
     "data": {
      "text/plain": [
       "100"
      ]
     },
     "execution_count": 4,
     "metadata": {},
     "output_type": "execute_result"
    }
   ],
   "source": [
    "particulas = projeto_pf2.cria_particulas()\n",
    "len(particulas)"
   ]
  },
  {
   "cell_type": "markdown",
   "metadata": {},
   "source": [
    "## Mapa com posição inicial"
   ]
  },
  {
   "cell_type": "markdown",
   "metadata": {},
   "source": [
    "Você **não** precisa se preocupar com as funções de desenho. "
   ]
  },
  {
   "cell_type": "code",
   "execution_count": 5,
   "metadata": {},
   "outputs": [
    {
     "data": {
      "image/png": "[encoded data removed]",
      "text/plain": [
       "<matplotlib.figure.Figure at 0x7f41354b6e10>"
      ]
     },
     "metadata": {
      "needs_background": "light"
     },
     "output_type": "display_data"
    }
   ],
   "source": [
    "graphics_nb.draw_map(robot)"
   ]
  },
  {
   "cell_type": "markdown",
   "metadata": {},
   "source": [
    "# Simulação da imagem do laser"
   ]
  },
  {
   "cell_type": "markdown",
   "metadata": {},
   "source": [
    "Para simular a leitura **real** do robo, use `inspercles.nb_lidar` passando o objeto robô. \n",
    "\n",
    "Você vai precisar fazer isso dentro da função `leituras_laser_evidencias`(que está em `projeto_pf.py`). Haverá uma leitura simulada para o robô e uma simulada para cada partícula"
   ]
  },
  {
   "cell_type": "code",
   "execution_count": 6,
   "metadata": {},
   "outputs": [],
   "source": [
    "leituras = inspercles.nb_lidar(robot, angles)"
   ]
  },
  {
   "cell_type": "markdown",
   "metadata": {},
   "source": [
    "O *array* leituras é um dicionário em que as chaves são os ângulos do laser relativos ao robô e o valor é a distância em *cm* em que um obstáculo foi observado naquela direção"
   ]
  },
  {
   "cell_type": "code",
   "execution_count": 7,
   "metadata": {},
   "outputs": [
    {
     "data": {
      "text/plain": [
       "{0.0: 295.57063453597686,\n",
       " 0.7853981633974483: 84.0,\n",
       " 1.5707963267948966: 52.32590180780452,\n",
       " 2.356194490192345: 320.0,\n",
       " 3.141592653589793: 145.66399692442874,\n",
       " 3.9269908169872414: 84.0,\n",
       " 4.71238898038469: 190.91883092036784,\n",
       " 5.497787143782138: 135.0}"
      ]
     },
     "execution_count": 7,
     "metadata": {},
     "output_type": "execute_result"
    }
   ],
   "source": [
    "leituras"
   ]
  },
  {
   "cell_type": "code",
   "execution_count": 8,
   "metadata": {
    "scrolled": true
   },
   "outputs": [
    {
     "data": {
      "image/png": "[encoded data removed]",
      "text/plain": [
       "<matplotlib.figure.Figure at 0x7f40d0b489d0>"
      ]
     },
     "metadata": {
      "needs_background": "light"
     },
     "output_type": "display_data"
    }
   ],
   "source": [
    "\n",
    "# Você não deve se preocupar com o código abaixo - é só para gerar uma imagem que será mostrada mais adiante\n",
    "#leituras, inspercles.lidar_map = inspercles.nb_simulate_lidar_fast(projeto_pf.robot.pose(), projeto_pf.angles, inspercles.np_image)\n",
    "leituras, lidar_map_temp = inspercles.nb_simulate_lidar_desenha(robot, angles)\n",
    "\n",
    "#plt.imshow(lidar_map_temp)\n",
    "ax = inspercles.nb_draw_map(lidar_map_temp, robot=True, pose=robot.pose(), particles=particulas)\n",
    "#ax.imshow(inspercles.color_image, alpha=0.8)\n",
    "\n"
   ]
  },
  {
   "cell_type": "markdown",
   "metadata": {},
   "source": [
    "## Loop principal dos movimentos do robô"
   ]
  },
  {
   "cell_type": "markdown",
   "metadata": {},
   "source": [
    "Há uma lista de deslocamentos para o robô chamada `movimentos` no arquivo `projeto_pf`. Vamos usá-la para simular o movimento no filtro de partículas\n",
    "\n",
    "\n"
   ]
  },
  {
   "cell_type": "markdown",
   "metadata": {},
   "source": [
    "Atenção: quando for gerar os arquivos png da entrega por favor apague todos os arquivos do tipo anim*png antes de gerar a versão final"
   ]
  },
  {
   "cell_type": "code",
   "execution_count": 9,
   "metadata": {},
   "outputs": [],
   "source": [
    "# No Windows: \n",
    "!del anim*png animated.gif"
   ]
  },
  {
   "cell_type": "code",
   "execution_count": 10,
   "metadata": {},
   "outputs": [],
   "source": [
    "# No Linux ou Mac\n",
    "! rm anim*png animated.gif"
   ]
  },
  {
   "cell_type": "code",
   "execution_count": 11,
   "metadata": {},
   "outputs": [],
   "source": [
    "## Atenção: Você não deveria precisar mexer no código abaixo\n",
    "\n",
    "\n",
    "plt.ioff() # Desliga o modo interativo, para nao aparecerem muitas imagens no meio por causa da animação\n",
    "\n",
    "frames = 1\n",
    "\n",
    "\n",
    "\n",
    "for delta in movimentos:\n",
    "    \n",
    "    robot.move_relative(delta)\n",
    "\n",
    "    projeto_pf2.move_particulas(particulas, delta)\n",
    "        \n",
    "    # Simula a leitura do lidar para o robô - versão desenho\n",
    "    #leituras, inspercles.lidar_map = inspercles.nb_simulate_lidar_fast(projeto_pf.robot.pose(), projeto_pf.angles, inspercles.np_image)\n",
    "    leituras, lidar_saida = inspercles.nb_simulate_lidar_desenha(robot, angles)\n",
    "    \n",
    "    # Simula a leitura - versao codigo\n",
    "    \n",
    "    # Simula o lidar para as particulas\n",
    "    # ATENÇÃO: o \"for\" abaixo faz parte do que deve estar dentro do seu \n",
    "    # leituras_laser_evidencias (parte da resolucao do item 3)\n",
    "    #for p in projeto_pf.particulas:\n",
    "    #    leituras = inspercles.nb_lidar(p, projeto_pf.angles)\n",
    "        \n",
    "    # Atualiza probabilidade e posicoes\n",
    "    projeto_pf2.leituras_laser_evidencias(robot, particulas)\n",
    "    \n",
    "    # Reamostra as particulas\n",
    "    particulas = projeto_pf2.reamostrar(particulas)\n",
    "    \n",
    "    \n",
    "    # Desenha as particulas\n",
    "    ax = inspercles.nb_draw_map(lidar_saida, pose=robot.pose(), robot=True, particles=particulas)\n",
    "    #ax = inspercles.nb_draw_map(lidar_saida, particles=projeto_pf.particulas)\n",
    "    # Desenha o mapa do lidar como fundo\n",
    "    ax.imshow(lidar_saida, alpha=1.0)\n",
    "    \n",
    "    plt.savefig(\"anim%04d.png\"%frames, bounds=\"tight\")\n",
    "    \n",
    "    frames+=1\n",
    "    plt.close('all')\n",
    "\n",
    "\n",
    "plt.ion()\n",
    "\n"
   ]
  },
  {
   "cell_type": "markdown",
   "metadata": {},
   "source": [
    "### Gerando o arquivo da animação em GIF"
   ]
  },
  {
   "cell_type": "markdown",
   "metadata": {},
   "source": [
    "Para gerar os gifs é <font color=red>preciso ter</font> o pacote *imagemagick*, que pode ser obtido neste [site](https://www.imagemagick.org/script/index.php).\n",
    "    \n",
    "Agora vamos invocar na linha de comando o seguinte comando:\n",
    "    convert -delay 10 -loop 1 anim*png animated.gif\n",
    "    \n",
    "Este comando criou um arquivo chamado *animated.gif*, que leremos abaixo:\n",
    "    "
   ]
  },
  {
   "cell_type": "code",
   "execution_count": 12,
   "metadata": {},
   "outputs": [],
   "source": [
    "!magick -delay 10 -loop 1 anim*png animated.gif"
   ]
  },
  {
   "cell_type": "markdown",
   "metadata": {},
   "source": [
    "Infelizmente o Jupyter Notebook não parece exibir animações em `Gif` por default, mas você pode abrir o arquivo no diretório de trabalho e deverá  vê-lo.\n",
    "\n",
    "<img src=\"animated.gif\">"
   ]
  },
  {
   "cell_type": "markdown",
   "metadata": {},
   "source": [
    "![](anim.gif)"
   ]
  },
  {
   "cell_type": "markdown",
   "metadata": {},
   "source": [
    "\n",
    "Imagem\n",
    "![](\"./animated.gif\")"
   ]
  },
  {
   "cell_type": "markdown",
   "metadata": {},
   "source": [
    "Descomente a linha abaixo para apagar os arquivos chamados anim*png. Você pode fazer isso caso o GIF tenha sido gerado com sucesso"
   ]
  },
  {
   "cell_type": "code",
   "execution_count": 13,
   "metadata": {},
   "outputs": [],
   "source": [
    "# No Mac ou Linux\n",
    "# ! rm anim*png\n",
    "# No Windows\n",
    "# ! del anim*png"
   ]
  }
 ],
 "metadata": {
  "kernelspec": {
   "display_name": "Python 2",
   "language": "python",
   "name": "python2"
  },
  "language_info": {
   "codemirror_mode": {
    "name": "ipython",
    "version": 2
   },
   "file_extension": ".py",
   "mimetype": "text/x-python",
   "name": "python",
   "nbconvert_exporter": "python",
   "pygments_lexer": "ipython2",
   "version": "2.7.17"
  }
 },
 "nbformat": 4,
 "nbformat_minor": 2
}
